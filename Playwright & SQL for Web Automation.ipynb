{
 "cells": [
  {
   "cell_type": "markdown",
   "id": "df29feb8",
   "metadata": {},
   "source": [
    "## What is a database?\n",
    "A database is a tool for collecting and organizing information. Databases can store information about people, products, orders, or anything else.\n",
    "\n",
    "Below are some useful applications of a database system\n",
    "\n",
    "* Add new data to a database, such as a new item in an inventory\n",
    "* Edit existing data in the database, such as changing the current location of an item\n",
    "* Delete information, perhaps if an item is sold or discarded\n",
    "* Organize and view the data in different ways\n",
    "\n",
    "## Main components of a database\n",
    "Row - A row is a data record about an item\n",
    "Columns - A column can be the attribute of the data in the row\n",
    "Tables - A table is a logically managed collection of rows and column \n",
    "CRUD - Create, Retrieve, Update, Delete\n",
    "Queries - Queries are instructions to perform CRUD operations\n",
    "\n",
    "\n",
    "## SQLite With Python - https://docs.python.org/3/library/sqlite3.html\n",
    "SQLite is a light SQL database that can be integrated with Python using the sqlite3 module. It provides an SQL interface to perform queries on the database.\n",
    "\n",
    "You do not need to install this module separately because it is shipped by default along with Python\n",
    "\n",
    "To use sqlite3 or other SQL modules there are certain steps that you have to follow\n",
    "\n",
    "* Connect\n",
    "    1. you must first create a connection object that represents the database\n",
    "    2. you can make connection using ```sqlite3.connect(DB)```\n",
    "* Cursor\n",
    "    1. Then optionally you can create a cursor object which will help you in executing all the SQL statements.\n",
    "    2. you can create a cursor with ```connection.cursor()```\n",
    "    3. to execute the command ```cursor.execute(QUERY)```\n",
    "    \n",
    "* Commit\n",
    "    1. Finally for anything except select you need to commit your changes to the database\n",
    "    2. This below method commits the current transaction. If you don't call this method, anything you did since the last call to commit() is not visible from other database connections.\n",
    "    2. To commit the changes ```connection.commit()```\n",
    "\n",
    "You can also use Dbreaver or any other database client to access the database through GUI https://dbeaver.io/"
   ]
  },
  {
   "cell_type": "code",
   "execution_count": null,
   "id": "edbd335b",
   "metadata": {},
   "outputs": [],
   "source": []
  },
  {
   "cell_type": "code",
   "execution_count": 2,
   "id": "84d97f6a",
   "metadata": {},
   "outputs": [],
   "source": [
    "import sqlite3"
   ]
  },
  {
   "cell_type": "code",
   "execution_count": 3,
   "id": "f83b180b",
   "metadata": {},
   "outputs": [
    {
     "name": "stdout",
     "output_type": "stream",
     "text": [
      "DB connected\n"
     ]
    }
   ],
   "source": [
    "conn = sqlite3.connect(\"new_db.db\")\n",
    "print(\"DB connected\")\n",
    "conn.close()"
   ]
  },
  {
   "cell_type": "code",
   "execution_count": 9,
   "id": "62ec254c",
   "metadata": {},
   "outputs": [
    {
     "name": "stdout",
     "output_type": "stream",
     "text": [
      "Created Product Table\n"
     ]
    }
   ],
   "source": [
    "CREATE_TABLE_QS = \"\"\"\n",
    "    CREATE TABLE IF NOT EXISTS product\n",
    "    (\n",
    "        id INT PRIMARY KEY NOT NULL,\n",
    "        name VARCHAR(255),\n",
    "        description TEXT,\n",
    "        price REAL\n",
    "    );\n",
    "\"\"\"\n",
    "conn = sqlite3.connect(\"new_db.db\")\n",
    "cursor = conn.cursor()\n",
    "cursor.execute(CREATE_TABLE_QS)\n",
    "conn.close()\n",
    "print(\"Created Product Table\")"
   ]
  },
  {
   "cell_type": "code",
   "execution_count": 14,
   "id": "d3805428",
   "metadata": {},
   "outputs": [],
   "source": [
    "INSERT_PRODUCT_QS = \"\"\"INSERT INTO product (id, name, description, price) VALUES(1, 'Phone', 'Just a Phone', 1000);\"\"\"\n",
    "conn = sqlite3.connect(\"new_db.db\")\n",
    "cursor = conn.cursor()\n",
    "cursor.execute(INSERT_PRODUCT_QS)\n",
    "conn.commit()\n",
    "conn.close()\n",
    "print(\"Created new product\")"
   ]
  },
  {
   "cell_type": "code",
   "execution_count": 16,
   "id": "de15978a",
   "metadata": {},
   "outputs": [
    {
     "name": "stdout",
     "output_type": "stream",
     "text": [
      "Updated product details\n"
     ]
    }
   ],
   "source": [
    "UPDATE_PRODUCT_QS = \"\"\"UPDATE product set description='A good phone', name='New Phone';\"\"\"\n",
    "conn = sqlite3.connect(\"new_db.db\")\n",
    "cursor = conn.cursor()\n",
    "cursor.execute(UPDATE_PRODUCT_QS)\n",
    "conn.commit()\n",
    "conn.close()\n",
    "print(\"Updated product details\")"
   ]
  },
  {
   "cell_type": "code",
   "execution_count": 18,
   "id": "d36f502f",
   "metadata": {},
   "outputs": [
    {
     "name": "stdout",
     "output_type": "stream",
     "text": [
      "(1, 'New Phone', 'A good phone', 1000.0)\n"
     ]
    }
   ],
   "source": [
    "FETCH_DATA = \"\"\"SELECT * FROM product;\"\"\"\n",
    "conn = sqlite3.connect(\"new_db.db\")\n",
    "cursor = conn.cursor()\n",
    "cursor.execute(FETCH_DATA)\n",
    "data = cursor.fetchall()\n",
    "for row in data:\n",
    "    print(row)\n",
    "conn.close()"
   ]
  },
  {
   "cell_type": "code",
   "execution_count": null,
   "id": "7ceb4061",
   "metadata": {},
   "outputs": [],
   "source": []
  },
  {
   "cell_type": "code",
   "execution_count": null,
   "id": "e5930902",
   "metadata": {},
   "outputs": [],
   "source": []
  },
  {
   "cell_type": "code",
   "execution_count": null,
   "id": "fc08f3a4",
   "metadata": {},
   "outputs": [],
   "source": []
  },
  {
   "cell_type": "code",
   "execution_count": null,
   "id": "2b33340d",
   "metadata": {},
   "outputs": [],
   "source": []
  },
  {
   "cell_type": "markdown",
   "id": "e58ab209",
   "metadata": {},
   "source": [
    "## What is Playwright https://playwright.dev/python/\n",
    "it's a web automation tool created by Microsoft, you can perform or simulate actions like click, select, copy and take a screenshot.\n",
    "\n",
    "It's a lightweight tool to perform all kinds of web automation. Playwright works with multiple programming languages like python, JS, Java etc and it's faster than most of the other libraries. Playwright supports sync and async code\n",
    "\n",
    "To install playwright run the below commands\n",
    "```\n",
    "pip install playwright\n",
    "playwright install\n",
    "```\n",
    "\n",
    "We'll use https://www.saucedemo.com/ to practice web scraping \n",
    "\n",
    "## Frequently Used Playwright Methods\n",
    "* .goto - To open a URL in browser\n",
    "* .wait_for_timeout - To wait for an event\n",
    "* .fill - To fill data in input, it takes 2 args 1st is the locator and 2nd the data\n",
    "* .locator - To locate an element\n",
    "* .click\n",
    "* .query_selector_all\n",
    "\n",
    "## Selectors/Locators \n",
    "Selectors or locators are instructions to query HTML pages there are many different selectors/locators we can use to traverse through webpages and find the element. Some common ones are following check the related videos to learn more about selectors and its usage\n",
    "\n",
    "* To select id use # and to select class use .\n",
    "\n",
    "## Playwright codegen\n",
    "Codegen can be used as a GUI tool to write code and perform automation with GUI\n",
    "\n",
    "* Xpath Selector - https://www.youtube.com/watch?v=U-MZJ6rbqi4&t=431s\n",
    "* CSS Selector - https://www.youtube.com/watch?v=EeZKHmNJipE"
   ]
  },
  {
   "cell_type": "code",
   "execution_count": null,
   "id": "df05c480",
   "metadata": {},
   "outputs": [],
   "source": []
  },
  {
   "cell_type": "code",
   "execution_count": null,
   "id": "b50be2e7",
   "metadata": {},
   "outputs": [],
   "source": []
  },
  {
   "cell_type": "code",
   "execution_count": null,
   "id": "839de4dd",
   "metadata": {},
   "outputs": [],
   "source": []
  },
  {
   "cell_type": "code",
   "execution_count": null,
   "id": "6f10d722",
   "metadata": {},
   "outputs": [],
   "source": []
  },
  {
   "cell_type": "code",
   "execution_count": null,
   "id": "0f790c1e",
   "metadata": {},
   "outputs": [],
   "source": []
  },
  {
   "cell_type": "code",
   "execution_count": null,
   "id": "7e65dd21",
   "metadata": {},
   "outputs": [],
   "source": []
  },
  {
   "cell_type": "code",
   "execution_count": null,
   "id": "a3a8102c",
   "metadata": {},
   "outputs": [],
   "source": []
  },
  {
   "cell_type": "code",
   "execution_count": null,
   "id": "afa1600a",
   "metadata": {},
   "outputs": [],
   "source": []
  },
  {
   "cell_type": "code",
   "execution_count": null,
   "id": "9e7dd160",
   "metadata": {},
   "outputs": [],
   "source": []
  },
  {
   "cell_type": "markdown",
   "id": "272f851e",
   "metadata": {},
   "source": [
    "**Goto https://www.justdial.com/ and find a list of 10 McDonalds, its rating and contact number.**</br>\n",
    "**Create a table in the database and store the above information**"
   ]
  },
  {
   "cell_type": "code",
   "execution_count": null,
   "id": "a92c9657",
   "metadata": {},
   "outputs": [],
   "source": []
  },
  {
   "cell_type": "markdown",
   "id": "180b7b34",
   "metadata": {},
   "source": [
    "**Goto https://news.ycombinator.com/ and extract the new title, published date time, news points**</br>\n",
    "**Create a table in the database and store the above information**"
   ]
  },
  {
   "cell_type": "code",
   "execution_count": null,
   "id": "7d0d1c15",
   "metadata": {},
   "outputs": [],
   "source": []
  },
  {
   "cell_type": "markdown",
   "id": "bfc752cd",
   "metadata": {},
   "source": [
    "**Goto https://play.google.com/store/apps and save the top trending apps and its data**</br>\n",
    "**Create a table in the database and store the above information**"
   ]
  },
  {
   "cell_type": "code",
   "execution_count": null,
   "id": "c3c689f6",
   "metadata": {},
   "outputs": [],
   "source": []
  }
 ],
 "metadata": {
  "kernelspec": {
   "display_name": "Python 3 (ipykernel)",
   "language": "python",
   "name": "python3"
  },
  "language_info": {
   "codemirror_mode": {
    "name": "ipython",
    "version": 3
   },
   "file_extension": ".py",
   "mimetype": "text/x-python",
   "name": "python",
   "nbconvert_exporter": "python",
   "pygments_lexer": "ipython3",
   "version": "3.9.12"
  }
 },
 "nbformat": 4,
 "nbformat_minor": 5
}
